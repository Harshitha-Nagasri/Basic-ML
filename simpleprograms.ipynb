{
  "nbformat": 4,
  "nbformat_minor": 0,
  "metadata": {
    "colab": {
      "name": "simpleprograms.ipynb",
      "provenance": [],
      "authorship_tag": "ABX9TyMgLuRhBMLjHvDyYS9TrzGo",
      "include_colab_link": true
    },
    "kernelspec": {
      "name": "python3",
      "display_name": "Python 3"
    },
    "language_info": {
      "name": "python"
    }
  },
  "cells": [
    {
      "cell_type": "markdown",
      "metadata": {
        "id": "view-in-github",
        "colab_type": "text"
      },
      "source": [
        "<a href=\"https://colab.research.google.com/github/Harshitha-Nagasri/Basic-ML/blob/main/simpleprograms.ipynb\" target=\"_parent\"><img src=\"https://colab.research.google.com/assets/colab-badge.svg\" alt=\"Open In Colab\"/></a>"
      ]
    },
    {
      "cell_type": "markdown",
      "metadata": {
        "id": "Q5ELk9Db7-5Q"
      },
      "source": [
        "# ***My First Notebook***"
      ]
    },
    {
      "cell_type": "markdown",
      "metadata": {
        "id": "T_A8-X1v-ux-"
      },
      "source": [
        "***1. Sum of numbers :***"
      ]
    },
    {
      "cell_type": "code",
      "metadata": {
        "colab": {
          "base_uri": "https://localhost:8080/"
        },
        "id": "yyX1n8r0-lF1",
        "outputId": "99d83de9-5e79-4fe7-baab-ac54c6b288f7"
      },
      "source": [
        "n1=int(input(\"Enter the number n1:\"))\n",
        "n2=int(input(\"Enter the number n2:\"))\n",
        "print(\"sum of two numbers is=\",a+b)"
      ],
      "execution_count": 4,
      "outputs": [
        {
          "output_type": "stream",
          "text": [
            "Enter the number a:10\n",
            "Enter the number b:20\n",
            "sum of two numbers is= 30\n"
          ],
          "name": "stdout"
        }
      ]
    },
    {
      "cell_type": "markdown",
      "metadata": {
        "id": "56vfTOWU-0tX"
      },
      "source": [
        "***2. Find the number is positive or negative***"
      ]
    },
    {
      "cell_type": "code",
      "metadata": {
        "colab": {
          "base_uri": "https://localhost:8080/"
        },
        "id": "HzMPSCmr-5bk",
        "outputId": "5cb6c3ab-71f1-449f-87c5-0d2ba810237c"
      },
      "source": [
        "n=int(input(\"Enter the number:\"))\n",
        "if n>0:\n",
        "  print(n,\"is positive\")\n",
        "elif c<0:\n",
        "  print(n,\"is negative\")\n",
        "else:\n",
        "  print(\"Neither positive nor negative\")"
      ],
      "execution_count": 5,
      "outputs": [
        {
          "output_type": "stream",
          "text": [
            "Enter the number:-11\n",
            "Neither positive nor negative\n"
          ],
          "name": "stdout"
        }
      ]
    },
    {
      "cell_type": "markdown",
      "metadata": {
        "id": "kXMp4mMo_FKM"
      },
      "source": [
        "***3.Find the number is Even or Odd***"
      ]
    },
    {
      "cell_type": "code",
      "metadata": {
        "colab": {
          "base_uri": "https://localhost:8080/"
        },
        "id": "9-HKVdae_Jda",
        "outputId": "7a082fbc-19ad-4da9-cba9-7e188110d21e"
      },
      "source": [
        "n=int(input(\"Enter the number:\"))\n",
        "if n%2==0:\n",
        "  print(n,\"is Even\")\n",
        "else:\n",
        "  print(n,\"is Odd\")"
      ],
      "execution_count": 3,
      "outputs": [
        {
          "output_type": "stream",
          "text": [
            "Enter the number:22\n",
            "22 is Even\n"
          ],
          "name": "stdout"
        }
      ]
    }
  ]
}